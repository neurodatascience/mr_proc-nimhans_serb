{
 "cells": [
  {
   "cell_type": "markdown",
   "metadata": {},
   "source": [
    "### Notebook to generate mr_proc manifest(s)\n",
    "- METAL_PD\n",
    "- SERB_PD"
   ]
  },
  {
   "cell_type": "code",
   "execution_count": 1,
   "metadata": {},
   "outputs": [],
   "source": [
    "import os\n",
    "import pandas as pd"
   ]
  },
  {
   "cell_type": "markdown",
   "metadata": {},
   "source": [
    "### Paths"
   ]
  },
  {
   "cell_type": "code",
   "execution_count": 2,
   "metadata": {},
   "outputs": [],
   "source": [
    "project_dir = \"/home/nikhil/projects/NIMHANS/data/PD_METAL/\"\n",
    "participants_file = f\"{project_dir}/T1_MetalPD.xlsx\""
   ]
  },
  {
   "attachments": {},
   "cell_type": "markdown",
   "metadata": {},
   "source": [
    "### Read raw tabular data"
   ]
  },
  {
   "cell_type": "code",
   "execution_count": 3,
   "metadata": {},
   "outputs": [
    {
     "data": {
      "text/html": [
       "<div>\n",
       "<style scoped>\n",
       "    .dataframe tbody tr th:only-of-type {\n",
       "        vertical-align: middle;\n",
       "    }\n",
       "\n",
       "    .dataframe tbody tr th {\n",
       "        vertical-align: top;\n",
       "    }\n",
       "\n",
       "    .dataframe thead th {\n",
       "        text-align: right;\n",
       "    }\n",
       "</style>\n",
       "<table border=\"1\" class=\"dataframe\">\n",
       "  <thead>\n",
       "    <tr style=\"text-align: right;\">\n",
       "      <th></th>\n",
       "      <th>participant_id</th>\n",
       "      <th>Gender(male-1)</th>\n",
       "      <th>Age</th>\n",
       "      <th>Age at onset</th>\n",
       "      <th>Duration</th>\n",
       "      <th>UPDRS -III OFF</th>\n",
       "    </tr>\n",
       "  </thead>\n",
       "  <tbody>\n",
       "    <tr>\n",
       "      <th>0</th>\n",
       "      <td>MPD_T1_1</td>\n",
       "      <td>2</td>\n",
       "      <td>66</td>\n",
       "      <td>58</td>\n",
       "      <td>8</td>\n",
       "      <td>57.0</td>\n",
       "    </tr>\n",
       "    <tr>\n",
       "      <th>1</th>\n",
       "      <td>MPD_T1_2</td>\n",
       "      <td>1</td>\n",
       "      <td>55</td>\n",
       "      <td>53</td>\n",
       "      <td>2</td>\n",
       "      <td>33.0</td>\n",
       "    </tr>\n",
       "    <tr>\n",
       "      <th>2</th>\n",
       "      <td>MPD_T1_5</td>\n",
       "      <td>2</td>\n",
       "      <td>37</td>\n",
       "      <td>33</td>\n",
       "      <td>4</td>\n",
       "      <td>28.5</td>\n",
       "    </tr>\n",
       "    <tr>\n",
       "      <th>3</th>\n",
       "      <td>MPD_T1_6</td>\n",
       "      <td>2</td>\n",
       "      <td>46</td>\n",
       "      <td>43</td>\n",
       "      <td>3</td>\n",
       "      <td>39.0</td>\n",
       "    </tr>\n",
       "    <tr>\n",
       "      <th>4</th>\n",
       "      <td>MPD_T1_7</td>\n",
       "      <td>1</td>\n",
       "      <td>63</td>\n",
       "      <td>60</td>\n",
       "      <td>3</td>\n",
       "      <td>42.0</td>\n",
       "    </tr>\n",
       "  </tbody>\n",
       "</table>\n",
       "</div>"
      ],
      "text/plain": [
       "  participant_id  Gender(male-1)  Age  Age at onset  Duration  UPDRS -III OFF\n",
       "0       MPD_T1_1               2   66            58         8            57.0\n",
       "1       MPD_T1_2               1   55            53         2            33.0\n",
       "2       MPD_T1_5               2   37            33         4            28.5\n",
       "3       MPD_T1_6               2   46            43         3            39.0\n",
       "4       MPD_T1_7               1   63            60         3            42.0"
      ]
     },
     "execution_count": 3,
     "metadata": {},
     "output_type": "execute_result"
    }
   ],
   "source": [
    "participants_df = pd.read_excel(participants_file,engine='openpyxl')\n",
    "participants_df = participants_df.rename(columns={'Unnamed: 0':'participant_id'})\n",
    "participants_df.head()"
   ]
  },
  {
   "attachments": {},
   "cell_type": "markdown",
   "metadata": {},
   "source": [
    "### Generate mr_proc_manifest\n",
    "- available_datatypes: [\"anat\"]\n",
    "- manifest_cols = [\"participant_id\",\"visit\",\"session\",\"datatype\",\"bids_id\"]"
   ]
  },
  {
   "cell_type": "code",
   "execution_count": 4,
   "metadata": {},
   "outputs": [
    {
     "data": {
      "text/html": [
       "<div>\n",
       "<style scoped>\n",
       "    .dataframe tbody tr th:only-of-type {\n",
       "        vertical-align: middle;\n",
       "    }\n",
       "\n",
       "    .dataframe tbody tr th {\n",
       "        vertical-align: top;\n",
       "    }\n",
       "\n",
       "    .dataframe thead th {\n",
       "        text-align: right;\n",
       "    }\n",
       "</style>\n",
       "<table border=\"1\" class=\"dataframe\">\n",
       "  <thead>\n",
       "    <tr style=\"text-align: right;\">\n",
       "      <th></th>\n",
       "      <th>participant_id</th>\n",
       "      <th>visit</th>\n",
       "      <th>session</th>\n",
       "      <th>datatype</th>\n",
       "      <th>id</th>\n",
       "      <th>bids_id</th>\n",
       "    </tr>\n",
       "  </thead>\n",
       "  <tbody>\n",
       "    <tr>\n",
       "      <th>0</th>\n",
       "      <td>MPD_T1_1</td>\n",
       "      <td>V01</td>\n",
       "      <td>ses-01</td>\n",
       "      <td>['anat']</td>\n",
       "      <td>1</td>\n",
       "      <td>sub-METAL001</td>\n",
       "    </tr>\n",
       "    <tr>\n",
       "      <th>1</th>\n",
       "      <td>MPD_T1_2</td>\n",
       "      <td>V01</td>\n",
       "      <td>ses-01</td>\n",
       "      <td>['anat']</td>\n",
       "      <td>2</td>\n",
       "      <td>sub-METAL002</td>\n",
       "    </tr>\n",
       "    <tr>\n",
       "      <th>2</th>\n",
       "      <td>MPD_T1_5</td>\n",
       "      <td>V01</td>\n",
       "      <td>ses-01</td>\n",
       "      <td>['anat']</td>\n",
       "      <td>5</td>\n",
       "      <td>sub-METAL005</td>\n",
       "    </tr>\n",
       "    <tr>\n",
       "      <th>3</th>\n",
       "      <td>MPD_T1_6</td>\n",
       "      <td>V01</td>\n",
       "      <td>ses-01</td>\n",
       "      <td>['anat']</td>\n",
       "      <td>6</td>\n",
       "      <td>sub-METAL006</td>\n",
       "    </tr>\n",
       "    <tr>\n",
       "      <th>4</th>\n",
       "      <td>MPD_T1_7</td>\n",
       "      <td>V01</td>\n",
       "      <td>ses-01</td>\n",
       "      <td>['anat']</td>\n",
       "      <td>7</td>\n",
       "      <td>sub-METAL007</td>\n",
       "    </tr>\n",
       "  </tbody>\n",
       "</table>\n",
       "</div>"
      ],
      "text/plain": [
       "  participant_id visit session  datatype id       bids_id\n",
       "0       MPD_T1_1   V01  ses-01  ['anat']  1  sub-METAL001\n",
       "1       MPD_T1_2   V01  ses-01  ['anat']  2  sub-METAL002\n",
       "2       MPD_T1_5   V01  ses-01  ['anat']  5  sub-METAL005\n",
       "3       MPD_T1_6   V01  ses-01  ['anat']  6  sub-METAL006\n",
       "4       MPD_T1_7   V01  ses-01  ['anat']  7  sub-METAL007"
      ]
     },
     "execution_count": 4,
     "metadata": {},
     "output_type": "execute_result"
    }
   ],
   "source": [
    "manifest_df = pd.DataFrame()\n",
    "manifest_df[\"participant_id\"] = participants_df[\"participant_id\"]\n",
    "manifest_df[\"visit\"] = \"V01\"\n",
    "manifest_df[\"session\"] = \"ses-01\"\n",
    "manifest_df[\"datatype\"] = \"['anat']\"\n",
    "manifest_df[\"id\"] = participants_df[\"participant_id\"].str.split(\"_\", expand=True)[2]\n",
    "manifest_df[\"bids_id\"] = \"sub-METAL\" + manifest_df[\"id\"].str.zfill(3)\n",
    "manifest_df.head()"
   ]
  },
  {
   "cell_type": "code",
   "execution_count": null,
   "metadata": {},
   "outputs": [],
   "source": [
    "# ### Save the manifest file\n",
    "# manifest_file = f\"{project_dir}/mr_proc_manifest.csv\"\n",
    "# manifest_df.to_csv(manifest_file, index=False)"
   ]
  }
 ],
 "metadata": {
  "kernelspec": {
   "display_name": "parkinsons",
   "language": "python",
   "name": "python3"
  },
  "language_info": {
   "codemirror_mode": {
    "name": "ipython",
    "version": 3
   },
   "file_extension": ".py",
   "mimetype": "text/x-python",
   "name": "python",
   "nbconvert_exporter": "python",
   "pygments_lexer": "ipython3",
   "version": "3.8.5"
  },
  "orig_nbformat": 4
 },
 "nbformat": 4,
 "nbformat_minor": 2
}
